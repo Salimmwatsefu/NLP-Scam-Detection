{
 "cells": [
  {
   "cell_type": "code",
   "execution_count": 1,
   "id": "029772dc",
   "metadata": {},
   "outputs": [],
   "source": [
    "import pandas as pd\n",
    "import numpy as np\n",
    "from scipy.sparse import load_npz\n",
    "from sklearn.model_selection import train_test_split\n",
    "from sklearn.metrics import accuracy_score, precision_score, recall_score, f1_score, roc_auc_score, confusion_matrix\n",
    "import xgboost as xgb\n",
    "import joblib\n",
    "import pickle\n",
    "import os"
   ]
  },
  {
   "cell_type": "code",
   "execution_count": 2,
   "id": "1b5f4e8c",
   "metadata": {},
   "outputs": [
    {
     "name": "stdout",
     "output_type": "stream",
     "text": [
      "Loaded data shape: (545, 20)\n"
     ]
    }
   ],
   "source": [
    "df = pd.read_pickle('../data/preprocessed_scam_data.pkl')\n",
    "print('Loaded data shape:', df.shape)"
   ]
  },
  {
   "cell_type": "code",
   "execution_count": 3,
   "id": "c369795b",
   "metadata": {},
   "outputs": [
    {
     "name": "stdout",
     "output_type": "stream",
     "text": [
      "TF-IDF matrix shape: (545, 3447)\n"
     ]
    }
   ],
   "source": [
    "# Load TF-IDF matrix\n",
    "tfidf_matrix = load_npz('../data/tfidf_matrix.npz')\n",
    "print('TF-IDF matrix shape:', tfidf_matrix.shape)"
   ]
  },
  {
   "cell_type": "code",
   "execution_count": 4,
   "id": "0c96e248",
   "metadata": {},
   "outputs": [
    {
     "name": "stdout",
     "output_type": "stream",
     "text": [
      "Label distribution: label\n",
      "1    348\n",
      "0    197\n",
      "Name: count, dtype: int64\n"
     ]
    }
   ],
   "source": [
    "# Convert text labels to numeric (scam: 1, legit: 0)\n",
    "labels = df['label'].map({'scam': 1, 'legit': 0})\n",
    "print('Label distribution:', labels.value_counts())"
   ]
  },
  {
   "cell_type": "code",
   "execution_count": 5,
   "id": "49de2f4f",
   "metadata": {},
   "outputs": [],
   "source": [
    "# Split data\n",
    "X_train, X_test, y_train, y_test = train_test_split(tfidf_matrix, labels, test_size=0.2, random_state=42, stratify=labels)"
   ]
  },
  {
   "cell_type": "code",
   "execution_count": 6,
   "id": "0632de16",
   "metadata": {},
   "outputs": [],
   "source": [
    "# Function to evaluate model\n",
    "def evaluate_model(y_true, y_pred, y_pred_proba=None):\n",
    "    metrics = {\n",
    "        'Accuracy': accuracy_score(y_true, y_pred),\n",
    "        'Precision': precision_score(y_true, y_pred),\n",
    "        'Recall': recall_score(y_true, y_pred),\n",
    "        'F1-score': f1_score(y_true, y_pred)\n",
    "    }\n",
    "    if y_pred_proba is not None:\n",
    "        metrics['ROC-AUC'] = roc_auc_score(y_true, y_pred_proba)\n",
    "    cm = confusion_matrix(y_true, y_pred)\n",
    "    print('Metrics:', metrics)\n",
    "    print('Confusion Matrix:\\n', cm)\n",
    "    return metrics"
   ]
  },
  {
   "cell_type": "code",
   "execution_count": 7,
   "id": "4db1c137",
   "metadata": {},
   "outputs": [
    {
     "name": "stdout",
     "output_type": "stream",
     "text": [
      "Training XGBoost...\n",
      "Metrics: {'Accuracy': 0.9357798165137615, 'Precision': 0.9436619718309859, 'Recall': 0.9571428571428572, 'F1-score': 0.950354609929078, 'ROC-AUC': 0.947985347985348}\n",
      "Confusion Matrix:\n",
      " [[35  4]\n",
      " [ 3 67]]\n"
     ]
    }
   ],
   "source": [
    "# Train XGBoost\n",
    "print('Training XGBoost...')\n",
    "xgb_model = xgb.XGBClassifier(random_state=42, eval_metric='logloss')\n",
    "xgb_model.fit(X_train, y_train)\n",
    "xgb_pred = xgb_model.predict(X_test)\n",
    "xgb_pred_proba = xgb_model.predict_proba(X_test)[:, 1]\n",
    "xgb_metrics = evaluate_model(y_test, xgb_pred, xgb_pred_proba)"
   ]
  },
  {
   "cell_type": "code",
   "execution_count": 8,
   "id": "80848b46",
   "metadata": {},
   "outputs": [
    {
     "name": "stdout",
     "output_type": "stream",
     "text": [
      "XGBoost complete. Model and metrics saved.\n"
     ]
    }
   ],
   "source": [
    "# Save model and metrics\n",
    "joblib.dump(xgb_model, '../models/xgboost_v1.joblib')\n",
    "with open('../metrics/xgboost_v1.pkl', 'wb') as f:\n",
    "    pickle.dump(xgb_metrics, f)\n",
    "\n",
    "print('XGBoost complete. Model and metrics saved.')"
   ]
  }
 ],
 "metadata": {
  "kernelspec": {
   "display_name": ".venv",
   "language": "python",
   "name": "python3"
  },
  "language_info": {
   "codemirror_mode": {
    "name": "ipython",
    "version": 3
   },
   "file_extension": ".py",
   "mimetype": "text/x-python",
   "name": "python",
   "nbconvert_exporter": "python",
   "pygments_lexer": "ipython3",
   "version": "3.12.3"
  }
 },
 "nbformat": 4,
 "nbformat_minor": 5
}
