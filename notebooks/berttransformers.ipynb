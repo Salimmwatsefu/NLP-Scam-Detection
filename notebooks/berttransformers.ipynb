{
 "cells": [
  {
   "cell_type": "code",
   "execution_count": 4,
   "id": "8f461fa9",
   "metadata": {},
   "outputs": [],
   "source": [
    "import pandas as pd\n",
    "import numpy as np\n",
    "from sklearn.model_selection import train_test_split\n",
    "from sklearn.metrics import accuracy_score, precision_score, recall_score, f1_score, roc_auc_score, confusion_matrix\n",
    "from transformers import BertForSequenceClassification, Trainer, TrainingArguments\n",
    "from torch.utils.data import Dataset\n",
    "import torch\n",
    "import pickle\n",
    "import os\n",
    "import time\n",
    "import shutil\n",
    "import logging\n",
    "from tqdm.auto import tqdm\n",
    "from huggingface_hub import snapshot_download"
   ]
  },
  {
   "cell_type": "code",
   "execution_count": 5,
   "id": "46978262",
   "metadata": {},
   "outputs": [],
   "source": [
    "# Set up logging\n",
    "logging.basicConfig(level=logging.INFO, format='%(asctime)s - %(levelname)s - %(message)s')\n",
    "logger = logging.getLogger(__name__)\n"
   ]
  },
  {
   "cell_type": "code",
   "execution_count": 6,
   "id": "b1aff0d5",
   "metadata": {},
   "outputs": [],
   "source": [
    "local_model_path = '../bert-base-uncased'\n",
    "\n",
    "# Verify local model exists\n",
    "if not os.path.exists(local_model_path) or not os.path.isfile(os.path.join(local_model_path, 'pytorch_model.bin')):\n",
    "    raise FileNotFoundError(f\"Local model directory {local_model_path} is missing or incomplete. Ensure bert-base-uncased is in {local_model_path}.\")"
   ]
  },
  {
   "cell_type": "code",
   "execution_count": 7,
   "id": "7dff5992",
   "metadata": {},
   "outputs": [
    {
     "name": "stdout",
     "output_type": "stream",
     "text": [
      "Loaded data shape: (545, 20)\n"
     ]
    }
   ],
   "source": [
    "# Load preprocessed data\n",
    "df = pd.read_pickle('../data/preprocessed_scam_data.pkl')\n",
    "print('Loaded data shape:', df.shape)"
   ]
  },
  {
   "cell_type": "code",
   "execution_count": 8,
   "id": "7d3ef318",
   "metadata": {},
   "outputs": [
    {
     "name": "stdout",
     "output_type": "stream",
     "text": [
      "Label distribution: label\n",
      "1    348\n",
      "0    197\n",
      "Name: count, dtype: int64\n"
     ]
    }
   ],
   "source": [
    "# Convert text labels to numeric (scam: 1, legit: 0)\n",
    "labels = df['label'].map({'scam': 1, 'legit': 0})\n",
    "print('Label distribution:', labels.value_counts())"
   ]
  },
  {
   "cell_type": "code",
   "execution_count": 9,
   "id": "c7280b0b",
   "metadata": {},
   "outputs": [],
   "source": [
    "# Custom Dataset for BERT\n",
    "class ScamDataset(Dataset):\n",
    "    def __init__(self, input_ids, labels):\n",
    "        self.input_ids = input_ids\n",
    "        self.labels = labels\n",
    "\n",
    "    def __len__(self):\n",
    "        return len(self.labels)\n",
    "\n",
    "    def __getitem__(self, idx):\n",
    "        return {\n",
    "            'input_ids': torch.tensor(self.input_ids[idx], dtype=torch.long),\n",
    "            'labels': torch.tensor(self.labels[idx], dtype=torch.long)\n",
    "        }"
   ]
  },
  {
   "cell_type": "code",
   "execution_count": 10,
   "id": "207d5c7f",
   "metadata": {},
   "outputs": [],
   "source": [
    "# Prepare data for BERT\n",
    "bert_input_ids = np.array(df['bert_input_ids'].tolist())  # Convert to numpy array\n",
    "X_train, X_test, y_train, y_test = train_test_split(bert_input_ids, labels, test_size=0.2, random_state=42, stratify=labels)"
   ]
  },
  {
   "cell_type": "code",
   "execution_count": 11,
   "id": "286388ec",
   "metadata": {},
   "outputs": [],
   "source": [
    "# Create datasets\n",
    "train_dataset = ScamDataset(X_train, y_train.values)\n",
    "test_dataset = ScamDataset(X_test, y_test.values)"
   ]
  },
  {
   "cell_type": "code",
   "execution_count": 12,
   "id": "847713c8",
   "metadata": {},
   "outputs": [
    {
     "name": "stderr",
     "output_type": "stream",
     "text": [
      "2025-04-22 13:09:09,928 - INFO - Loading BERT model from ../bert-base-uncased...\n",
      "Some weights of BertForSequenceClassification were not initialized from the model checkpoint at ../bert-base-uncased and are newly initialized: ['classifier.bias', 'classifier.weight']\n",
      "You should probably TRAIN this model on a down-stream task to be able to use it for predictions and inference.\n",
      "2025-04-22 13:09:10,309 - INFO - BERT model loaded successfully.\n"
     ]
    }
   ],
   "source": [
    "# Load BERT model from local directory\n",
    "logger.info(f'Loading BERT model from {local_model_path}...')\n",
    "try:\n",
    "    model = BertForSequenceClassification.from_pretrained(\n",
    "        local_model_path,\n",
    "        num_labels=2,\n",
    "        from_tf=False,  # Ensure PyTorch weights\n",
    "    )\n",
    "    logger.info('BERT model loaded successfully.')\n",
    "except Exception as e:\n",
    "    logger.error(f'Failed to load BERT model: {str(e)}')\n",
    "    raise"
   ]
  },
  {
   "cell_type": "code",
   "execution_count": 13,
   "id": "2839270e",
   "metadata": {},
   "outputs": [],
   "source": [
    "# Training arguments\n",
    "training_args = TrainingArguments(\n",
    "    output_dir='../outputs/bert_results',\n",
    "    num_train_epochs=3,\n",
    "    per_device_train_batch_size=8,\n",
    "    per_device_eval_batch_size=8,\n",
    "    warmup_steps=500,\n",
    "    weight_decay=0.01,\n",
    "    logging_dir='../outputs/logs',\n",
    "    logging_steps=10,\n",
    "    eval_strategy='epoch',\n",
    "    save_strategy='epoch',\n",
    "    load_best_model_at_end=True\n",
    ")"
   ]
  },
  {
   "cell_type": "code",
   "execution_count": 14,
   "id": "c94aa38d",
   "metadata": {},
   "outputs": [],
   "source": [
    "# Function to evaluate model\n",
    "def evaluate_model(y_true, y_pred, y_pred_proba=None):\n",
    "    metrics = {\n",
    "        'Accuracy': accuracy_score(y_true, y_pred),\n",
    "        'Precision': precision_score(y_true, y_pred),\n",
    "        'Recall': recall_score(y_true, y_pred),\n",
    "        'F1-score': f1_score(y_true, y_pred)\n",
    "    }\n",
    "    if y_pred_proba is not None:\n",
    "        metrics['ROC-AUC'] = roc_auc_score(y_true, y_pred_proba)\n",
    "    cm = confusion_matrix(y_true, y_pred)\n",
    "    print('Metrics:', metrics)\n",
    "    print('Confusion Matrix:\\n', cm)\n",
    "    return metrics"
   ]
  },
  {
   "cell_type": "code",
   "execution_count": 15,
   "id": "b571b8c4",
   "metadata": {},
   "outputs": [],
   "source": [
    "# Trainer\n",
    "trainer = Trainer(\n",
    "    model=model,\n",
    "    args=training_args,\n",
    "    train_dataset=train_dataset,\n",
    "    eval_dataset=test_dataset\n",
    ")"
   ]
  },
  {
   "cell_type": "code",
   "execution_count": 16,
   "id": "d913fd7d",
   "metadata": {},
   "outputs": [
    {
     "name": "stderr",
     "output_type": "stream",
     "text": [
      "We strongly recommend passing in an `attention_mask` since your input_ids may be padded. See https://huggingface.co/docs/transformers/troubleshooting#incorrect-output-when-padding-tokens-arent-masked.\n"
     ]
    },
    {
     "name": "stdout",
     "output_type": "stream",
     "text": [
      "Fine-tuning BERT...\n"
     ]
    },
    {
     "data": {
      "text/html": [
       "\n",
       "    <div>\n",
       "      \n",
       "      <progress value='165' max='165' style='width:300px; height:20px; vertical-align: middle;'></progress>\n",
       "      [165/165 49:32, Epoch 3/3]\n",
       "    </div>\n",
       "    <table border=\"1\" class=\"dataframe\">\n",
       "  <thead>\n",
       " <tr style=\"text-align: left;\">\n",
       "      <th>Epoch</th>\n",
       "      <th>Training Loss</th>\n",
       "      <th>Validation Loss</th>\n",
       "    </tr>\n",
       "  </thead>\n",
       "  <tbody>\n",
       "    <tr>\n",
       "      <td>1</td>\n",
       "      <td>0.756500</td>\n",
       "      <td>0.652868</td>\n",
       "    </tr>\n",
       "    <tr>\n",
       "      <td>2</td>\n",
       "      <td>0.513000</td>\n",
       "      <td>0.512825</td>\n",
       "    </tr>\n",
       "    <tr>\n",
       "      <td>3</td>\n",
       "      <td>0.412600</td>\n",
       "      <td>0.389587</td>\n",
       "    </tr>\n",
       "  </tbody>\n",
       "</table><p>"
      ],
      "text/plain": [
       "<IPython.core.display.HTML object>"
      ]
     },
     "metadata": {},
     "output_type": "display_data"
    },
    {
     "data": {
      "text/plain": [
       "TrainOutput(global_step=165, training_loss=0.5711986729592988, metrics={'train_runtime': 2992.9706, 'train_samples_per_second': 0.437, 'train_steps_per_second': 0.055, 'total_flos': 134433304848000.0, 'train_loss': 0.5711986729592988, 'epoch': 3.0})"
      ]
     },
     "execution_count": 16,
     "metadata": {},
     "output_type": "execute_result"
    }
   ],
   "source": [
    "# Train\n",
    "print('Fine-tuning BERT...')\n",
    "trainer.train()"
   ]
  },
  {
   "cell_type": "code",
   "execution_count": 17,
   "id": "843e8df3",
   "metadata": {},
   "outputs": [
    {
     "name": "stdout",
     "output_type": "stream",
     "text": [
      "Evaluating BERT...\n"
     ]
    },
    {
     "data": {
      "text/html": [],
      "text/plain": [
       "<IPython.core.display.HTML object>"
      ]
     },
     "metadata": {},
     "output_type": "display_data"
    },
    {
     "name": "stdout",
     "output_type": "stream",
     "text": [
      "Metrics: {'Accuracy': 0.8532110091743119, 'Precision': 0.8292682926829268, 'Recall': 0.9714285714285714, 'F1-score': 0.8947368421052632, 'ROC-AUC': 0.8923076923076922}\n",
      "Confusion Matrix:\n",
      " [[25 14]\n",
      " [ 2 68]]\n"
     ]
    }
   ],
   "source": [
    "# Evaluate\n",
    "print('Evaluating BERT...')\n",
    "predictions = trainer.predict(test_dataset)\n",
    "bert_pred = np.argmax(predictions.predictions, axis=1)\n",
    "bert_pred_proba = torch.softmax(torch.tensor(predictions.predictions), dim=1)[:, 1].numpy()\n",
    "bert_metrics = evaluate_model(y_test, bert_pred, bert_pred_proba)"
   ]
  },
  {
   "cell_type": "code",
   "execution_count": 18,
   "id": "e839477b",
   "metadata": {},
   "outputs": [
    {
     "name": "stdout",
     "output_type": "stream",
     "text": [
      "BERT fine-tuning complete. Model and metrics saved.\n"
     ]
    }
   ],
   "source": [
    "# Save model and metrics\n",
    "trainer.save_model('../models/bert_scam_model')\n",
    "with open('../metrics/bert_metrics.pkl', 'wb') as f:\n",
    "    pickle.dump(bert_metrics, f)\n",
    "\n",
    "\n",
    "print('BERT fine-tuning complete. Model and metrics saved.')"
   ]
  },
  {
   "cell_type": "code",
   "execution_count": null,
   "id": "4003250d",
   "metadata": {},
   "outputs": [],
   "source": [
    "print('hey')"
   ]
  }
 ],
 "metadata": {
  "kernelspec": {
   "display_name": ".venv",
   "language": "python",
   "name": "python3"
  },
  "language_info": {
   "codemirror_mode": {
    "name": "ipython",
    "version": 3
   },
   "file_extension": ".py",
   "mimetype": "text/x-python",
   "name": "python",
   "nbconvert_exporter": "python",
   "pygments_lexer": "ipython3",
   "version": "3.12.3"
  }
 },
 "nbformat": 4,
 "nbformat_minor": 5
}
