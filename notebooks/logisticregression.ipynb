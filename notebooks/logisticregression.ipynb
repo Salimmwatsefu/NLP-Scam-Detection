{
 "cells": [
  {
   "cell_type": "code",
   "execution_count": 9,
   "id": "6bab5444",
   "metadata": {},
   "outputs": [],
   "source": [
    "import pandas as pd\n",
    "import numpy as np\n",
    "from scipy.sparse import load_npz\n",
    "from sklearn.model_selection import train_test_split\n",
    "from sklearn.linear_model import LogisticRegression\n",
    "from sklearn.metrics import accuracy_score, precision_score, recall_score, f1_score, roc_auc_score, confusion_matrix\n",
    "import pickle\n",
    "import joblib\n",
    "\n"
   ]
  },
  {
   "cell_type": "code",
   "execution_count": 10,
   "id": "84960451",
   "metadata": {},
   "outputs": [
    {
     "name": "stdout",
     "output_type": "stream",
     "text": [
      "Loaded data shape: (545, 20)\n"
     ]
    }
   ],
   "source": [
    "# Load preprocessed data\n",
    "df = pd.read_pickle('../data/preprocessed_scam_data.pkl')\n",
    "print('Loaded data shape:', df.shape)"
   ]
  },
  {
   "cell_type": "code",
   "execution_count": 11,
   "id": "1d50ab2c",
   "metadata": {},
   "outputs": [
    {
     "name": "stdout",
     "output_type": "stream",
     "text": [
      "TF-IDF matrix shape: (545, 3447)\n"
     ]
    }
   ],
   "source": [
    "# Load TF-IDF matrix\n",
    "tfidf_matrix = load_npz('../data/tfidf_matrix.npz')\n",
    "print('TF-IDF matrix shape:', tfidf_matrix.shape)"
   ]
  },
  {
   "cell_type": "code",
   "execution_count": 12,
   "id": "cfa9df48",
   "metadata": {},
   "outputs": [
    {
     "name": "stdout",
     "output_type": "stream",
     "text": [
      "Label distribution: label\n",
      "1    348\n",
      "0    197\n",
      "Name: count, dtype: int64\n"
     ]
    }
   ],
   "source": [
    "# Convert text labels to numeric (scam: 1, legit: 0)\n",
    "labels = df['label'].map({'scam': 1, 'legit': 0})\n",
    "print('Label distribution:', labels.value_counts())"
   ]
  },
  {
   "cell_type": "code",
   "execution_count": 13,
   "id": "6e151ab5",
   "metadata": {},
   "outputs": [],
   "source": [
    "# Split data\n",
    "X_train, X_test, y_train, y_test = train_test_split(tfidf_matrix, labels, test_size=0.2, random_state=42, stratify=labels)"
   ]
  },
  {
   "cell_type": "code",
   "execution_count": 14,
   "id": "12c717f6",
   "metadata": {},
   "outputs": [],
   "source": [
    "# Function to evaluate model\n",
    "def evaluate_model(y_true, y_pred, y_pred_proba=None):\n",
    "    metrics = {\n",
    "        'Accuracy': accuracy_score(y_true, y_pred),\n",
    "        'Precision': precision_score(y_true, y_pred),\n",
    "        'Recall': recall_score(y_true, y_pred),\n",
    "        'F1-score': f1_score(y_true, y_pred)\n",
    "    }\n",
    "    if y_pred_proba is not None:\n",
    "        metrics['ROC-AUC'] = roc_auc_score(y_true, y_pred_proba)\n",
    "    cm = confusion_matrix(y_true, y_pred)\n",
    "    print('Metrics:', metrics)\n",
    "    print('Confusion Matrix:\\n', cm)\n",
    "    return metrics"
   ]
  },
  {
   "cell_type": "code",
   "execution_count": 15,
   "id": "e8b0a7b7",
   "metadata": {},
   "outputs": [
    {
     "name": "stdout",
     "output_type": "stream",
     "text": [
      "Training Logistic Regression...\n",
      "Metrics: {'Accuracy': 0.8256880733944955, 'Precision': 0.7865168539325843, 'Recall': 1.0, 'F1-score': 0.8805031446540881, 'ROC-AUC': 0.9805860805860805}\n",
      "Confusion Matrix:\n",
      " [[20 19]\n",
      " [ 0 70]]\n"
     ]
    }
   ],
   "source": [
    "print('Training Logistic Regression...')\n",
    "lr_model = LogisticRegression(max_iter=1000, random_state=42)\n",
    "lr_model.fit(X_train, y_train)\n",
    "lr_pred = lr_model.predict(X_test)\n",
    "lr_pred_proba = lr_model.predict_proba(X_test)[:, 1]\n",
    "lr_metrics = evaluate_model(y_test, lr_pred, lr_pred_proba)"
   ]
  },
  {
   "cell_type": "code",
   "execution_count": null,
   "id": "3a414895",
   "metadata": {},
   "outputs": [
    {
     "name": "stdout",
     "output_type": "stream",
     "text": [
      "Logistic Regression complete. Model and metrics saved.\n"
     ]
    }
   ],
   "source": [
    "# Save model and metrics\n",
    "joblib.dump(lr_model, '../models/logistic_regression_v1.joblib')\n",
    "with open('../metrics/logistic_regression_v1.pkl', 'wb') as f:\n",
    "    pickle.dump(lr_metrics, f)\n",
    "\n",
    "print('Logistic Regression complete. Model and metrics saved.')"
   ]
  },
  {
   "cell_type": "code",
   "execution_count": null,
   "id": "828e25a9",
   "metadata": {},
   "outputs": [],
   "source": []
  }
 ],
 "metadata": {
  "kernelspec": {
   "display_name": ".venv",
   "language": "python",
   "name": "python3"
  },
  "language_info": {
   "codemirror_mode": {
    "name": "ipython",
    "version": 3
   },
   "file_extension": ".py",
   "mimetype": "text/x-python",
   "name": "python",
   "nbconvert_exporter": "python",
   "pygments_lexer": "ipython3",
   "version": "3.12.3"
  }
 },
 "nbformat": 4,
 "nbformat_minor": 5
}
